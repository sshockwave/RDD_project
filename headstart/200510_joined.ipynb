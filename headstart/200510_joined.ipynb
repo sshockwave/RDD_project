{
 "cells": [
  {
   "cell_type": "code",
   "execution_count": 1,
   "metadata": {},
   "outputs": [],
   "source": [
    "import matplotlib.pyplot as plt\n",
    "import numpy as np\n",
    "from sklearn import datasets, linear_model\n",
    "from sklearn.metrics import mean_squared_error, r2_score\n",
    "import pandas as pd"
   ]
  },
  {
   "cell_type": "code",
   "execution_count": 2,
   "metadata": {},
   "outputs": [
    {
     "name": "stdout",
     "output_type": "stream",
     "text": [
      "Dropped 26 lines that contain NaN.\n"
     ]
    }
   ],
   "source": [
    "data=pd.read_csv('data/headstart.csv')\n",
    "len_before=len(data.index)\n",
    "data=data.dropna(how='any',subset=['povrate60','mort_age59_related_postHS','census1960_pop'])\n",
    "len_after=len(data.index)\n",
    "print('Dropped',len_before-len_after,'lines that contain NaN.')\n",
    "threshold=59.1984"
   ]
  },
  {
   "cell_type": "code",
   "execution_count": 3,
   "metadata": {},
   "outputs": [],
   "source": [
    "def ker_tri(x):\n",
    "    return 2*(1-x)\n",
    "def ker_rect(x):\n",
    "    return 1 # Note that the constant here will not affect the result"
   ]
  },
  {
   "cell_type": "code",
   "execution_count": 4,
   "metadata": {},
   "outputs": [],
   "source": [
    "def get_interval(X,Y,a,b):\n",
    "    return X[np.logical_and(a<X,X<b)],Y[np.logical_and(a<X,X<b)]"
   ]
  },
  {
   "cell_type": "code",
   "execution_count": 93,
   "metadata": {},
   "outputs": [],
   "source": [
    "\"\"\"\n",
    "X=data['povrate60'].values\n",
    "Y=data['mort_age59_related_postHS'].values\n",
    "restriction=Y<=40\n",
    "X=X[restriction]\n",
    "Y=Y[restriction]\n",
    "\"\"\"\n",
    "n=300\n",
    "X=np.random.rand(n)*10-5+threshold\n",
    "def actual_f(x):\n",
    "    return 0.3*((x-59)**2)+2\n",
    "Y=np.vectorize(actual_f)(X)+np.random.rand(n)-0.5"
   ]
  },
  {
   "cell_type": "code",
   "execution_count": 86,
   "metadata": {},
   "outputs": [],
   "source": [
    "# Left regression only\n",
    "def bias1(X,Y,t,k,b):\n",
    "    X0=X[np.logical_and(t-b<X,X<t)]\n",
    "    X1=X0-t                             #take threshold to x=0\n",
    "    Y1=Y[np.logical_and(t-b<X,X<t)]\n",
    "    get_weight=np.vectorize(lambda x:k((np.abs(x))/b))\n",
    "    WL=get_weight(X1)\n",
    "    XW=X1*WL                            #weighted X1\n",
    "    XXW=X1**2*WL                        #weighted X1^2\n",
    "    YW=Y1*WL                            #weighted Y1\n",
    "    #averages\n",
    "    Wsum=np.sum(WL)\n",
    "    XXavg=np.sum(XXW)/Wsum\n",
    "    Xavg=np.sum(XW)/Wsum\n",
    "    Yavg=np.sum(YW)/Wsum\n",
    "    regr = linear_model.LinearRegression()\n",
    "    regr.fit(X1.reshape(-1,1), Y1, sample_weight=WL)\n",
    "    a=regr.coef_                        #find the slope of regression\n",
    "    f1=WL*((a*(X1-Xavg)-(Y1-Yavg))**2)\n",
    "    f2=WL*(X1-XXavg)**2\n",
    "    n=np.size(X1)\n",
    "    F=XXavg*np.sum(f1)/((n-2)*np.sum(f2))\n",
    "    return F"
   ]
  },
  {
   "cell_type": "code",
   "execution_count": 87,
   "metadata": {},
   "outputs": [],
   "source": [
    "# Left regression only\n",
    "def bias2(X,Y,t,k,b,regr2):\n",
    "    X,Y=get_interval(X,Y,t-b,t)\n",
    "    get_weight=np.vectorize(lambda x:k((np.abs(x-t))/b))\n",
    "    WL=get_weight(X)\n",
    "    #averages\n",
    "    X1=X.reshape(-1,1)\n",
    "    X2=np.hstack([X1,X1**2])\n",
    "    regr1 = linear_model.LinearRegression()\n",
    "    regr1.fit(X1,regr2.predict(X2),sample_weight=WL)\n",
    "    err=(regr1.predict([[t]])-regr2.predict([[t,t**2]]))[0]\n",
    "    return err**2"
   ]
  },
  {
   "cell_type": "code",
   "execution_count": 88,
   "metadata": {},
   "outputs": [],
   "source": [
    "# t is the threshold, k is a kernel function [0,1]->R, and b is the bandwidth\n",
    "# Currently supports only 1D array\n",
    "# Regression from left of t\n",
    "def regr_sided(X,Y,t,k,b):\n",
    "    # Dispose points outside bandwidth\n",
    "    YL=Y[np.logical_and(t-b<X,X<t)]\n",
    "    XL=X[np.logical_and(t-b<X,X<t)]\n",
    "    \n",
    "    # Calculate weights\n",
    "    get_weight=np.vectorize(lambda x:k((np.abs((x-t)))/b))\n",
    "    WL=get_weight(XL)\n",
    "\n",
    "    # Reshape for lib use\n",
    "    # Every data has a single feature\n",
    "    XL=XL.reshape(-1,1)\n",
    "    YL=YL.reshape(-1,1)\n",
    "    \n",
    "    # Create linear regression object\n",
    "    regrL = linear_model.LinearRegression()\n",
    "    \n",
    "    # Train the model using the training sets\n",
    "    regrL.fit(XL, YL, sample_weight=WL)\n",
    "    \n",
    "    return regrL"
   ]
  },
  {
   "cell_type": "code",
   "execution_count": 94,
   "metadata": {},
   "outputs": [
    {
     "name": "stdout",
     "output_type": "stream",
     "text": [
      "black: data points, red: predicted by regression, green: hidden true values\n"
     ]
    },
    {
     "data": {
      "image/png": "[encoded data removed]",
      "text/plain": [
       "<Figure size 432x288 with 1 Axes>"
      ]
     },
     "metadata": {
      "needs_background": "light"
     },
     "output_type": "display_data"
    },
    {
     "name": "stdout",
     "output_type": "stream",
     "text": [
      "blue: bias1, green: bias2, black: all bias, red: true bias\n"
     ]
    },
    {
     "data": {
      "image/png": "[encoded data removed]",
      "text/plain": [
       "<Figure size 432x288 with 1 Axes>"
      ]
     },
     "metadata": {
      "needs_background": "light"
     },
     "output_type": "display_data"
    }
   ],
   "source": [
    "def get_regr2(X,Y,t,k,b):\n",
    "    X,Y=get_interval(X,Y,t-b,t)\n",
    "    get_weight=np.vectorize(lambda x:k((np.abs(x-t))/b))\n",
    "    WL=get_weight(X)\n",
    "    X1=X.reshape(-1,1)\n",
    "    X2=np.hstack([X1,X1**2])\n",
    "    regr2 = linear_model.LinearRegression()\n",
    "    regr2.fit(X2, Y, sample_weight=WL)\n",
    "    print('black: data points, red: predicted by regression, green: hidden true values')\n",
    "    plt.scatter(X,Y, s=0.2, color='black')\n",
    "    plt.scatter(X, regr2.predict(X2),s=1.5, color='red')\n",
    "    plt.scatter(X, np.vectorize(actual_f)(X),s=1.5, color='green')\n",
    "    plt.show()\n",
    "    return regr2\n",
    "\n",
    "regr2=get_regr2(X,Y,threshold,ker_rect,1.6)\n",
    "\n",
    "def test_bandwidth_joined(X,Y,t,k):\n",
    "    for i in np.exp(np.linspace(-1,1,100)):\n",
    "        err1=bias1(X,Y,t,k,i)\n",
    "        err2=bias2(X,Y,t,k,i,regr2)\n",
    "        plt.scatter(i, err1, s=0.2, color='blue')\n",
    "        plt.scatter(i, err2, s=0.2, color='green')\n",
    "        plt.scatter(i, err1+err2, s=0.2, color='black')\n",
    "        final_regr=regr_sided(X,Y,t,k,i)\n",
    "        true_err=(final_regr.predict([[t]])[0][0]-actual_f(t))**2\n",
    "        plt.scatter(i, true_err, s=0.2, color='red')\n",
    "    print('blue: bias1, green: bias2, black: all bias, red: true bias')\n",
    "    plt.show()\n",
    "    \n",
    "test_bandwidth_joined(X,Y,threshold,ker_tri)"
   ]
  },
  {
   "cell_type": "code",
   "execution_count": null,
   "metadata": {},
   "outputs": [],
   "source": []
  }
 ],
 "metadata": {
  "kernelspec": {
   "display_name": "Python 3",
   "language": "python",
   "name": "python3"
  },
  "language_info": {
   "codemirror_mode": {
    "name": "ipython",
    "version": 3
   },
   "file_extension": ".py",
   "mimetype": "text/x-python",
   "name": "python",
   "nbconvert_exporter": "python",
   "pygments_lexer": "ipython3",
   "version": "3.7.4"
  }
 },
 "nbformat": 4,
 "nbformat_minor": 4
}
