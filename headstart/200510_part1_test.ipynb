{
 "cells": [
  {
   "cell_type": "code",
   "execution_count": 1,
   "metadata": {},
   "outputs": [],
   "source": [
    "import matplotlib.pyplot as plt\n",
    "import numpy as np\n",
    "from sklearn import datasets, linear_model\n",
    "from sklearn.metrics import mean_squared_error, r2_score\n",
    "import pandas as pd"
   ]
  },
  {
   "cell_type": "code",
   "execution_count": 7,
   "metadata": {},
   "outputs": [
    {
     "name": "stdout",
     "output_type": "stream",
     "text": [
      "Dropped 26 lines that contain NaN.\n"
     ]
    }
   ],
   "source": [
    "data=pd.read_csv('data/headstart.csv')\n",
    "len_before=len(data.index)\n",
    "data=data.dropna(how='any',subset=['povrate60','mort_age59_related_postHS','census1960_pop'])\n",
    "len_after=len(data.index)\n",
    "print('Dropped',len_before-len_after,'lines that contain NaN.')\n",
    "threshold=59.1984"
   ]
  },
  {
   "cell_type": "code",
   "execution_count": 17,
   "metadata": {},
   "outputs": [],
   "source": [
    "def ker_tri(x):\n",
    "    return 2*(1-x)"
   ]
  },
  {
   "cell_type": "code",
   "execution_count": 18,
   "metadata": {},
   "outputs": [],
   "source": [
    "def ker_rect(x):\n",
    "    return 1 # Note that the constant here will not affect the result"
   ]
  },
  {
   "cell_type": "code",
   "execution_count": 19,
   "metadata": {},
   "outputs": [],
   "source": [
    "def get_interval(X,Y,a,b):\n",
    "    return X[np.logical_and(a<X,X<b)],Y[np.logical_and(a<X,X<b)]"
   ]
  },
  {
   "cell_type": "code",
   "execution_count": 41,
   "metadata": {},
   "outputs": [],
   "source": [
    "# t is the threshold\n",
    "def cv_test_bandwidth(X,Y,t,k,vald):\n",
    "    for i in np.exp(np.linspace(-1,2,100)):\n",
    "        err=(vald(X,Y,t,k,i)+vald(-X,Y,-t,k,i))/2\n",
    "        plt.scatter(i, err, s=0.2, color='blue')\n",
    "    plt.show()"
   ]
  },
  {
   "cell_type": "code",
   "execution_count": 45,
   "metadata": {},
   "outputs": [],
   "source": [
    "# Left regression only\n",
    "def bias1(X,Y,t,k,b):\n",
    "    X0=X[np.logical_and(t-b<X,X<t)]\n",
    "    X1=X0-t                             #take threshold to x=0\n",
    "    Y1=Y[np.logical_and(t-b<X,X<t)]\n",
    "    get_weight=np.vectorize(lambda x:k((np.abs(x))/b))\n",
    "    WL=get_weight(X1)\n",
    "    XW=X1*WL                            #weighted X1\n",
    "    XXW=X1**2*WL                        #weighted X1^2\n",
    "    YW=Y1*WL                            #weighted Y1\n",
    "    #averages\n",
    "    Wsum=np.sum(WL)\n",
    "    XXavg=np.sum(XXW)/Wsum\n",
    "    Xavg=np.sum(XW)/Wsum\n",
    "    Yavg=np.sum(YW)/Wsum\n",
    "    regr = linear_model.LinearRegression()\n",
    "    regr.fit(X1.values.reshape(-1,1), Y1, sample_weight=WL)\n",
    "    a=regr.coef_                        #find the slope of regression\n",
    "    f1=WL*((a*(X1-Xavg)-(Y1-Yavg))**2)\n",
    "    f2=WL*(X1-XXavg)**2\n",
    "    n=np.size(X)\n",
    "    F=XXavg*np.sum(f1)/np.sum(f2)#((n-1)*np.sum(f2))\n",
    "    return F"
   ]
  },
  {
   "cell_type": "markdown",
   "metadata": {},
   "source": [
    "The x-axis is the bandwidth, and the y-axis is the error caused by data variance."
   ]
  },
  {
   "cell_type": "code",
   "execution_count": 46,
   "metadata": {},
   "outputs": [
    {
     "data": {
      "image/png": "[encoded data removed]",
      "text/plain": [
       "<Figure size 432x288 with 1 Axes>"
      ]
     },
     "metadata": {
      "needs_background": "light"
     },
     "output_type": "display_data"
    }
   ],
   "source": [
    "X=data['povrate60']\n",
    "Y=data['mort_age59_related_postHS']\n",
    "restriction=Y<=40\n",
    "X=X[restriction]\n",
    "Y=Y[restriction]\n",
    "cv_test_bandwidth(X,Y,threshold,ker_rect,bias1)"
   ]
  },
  {
   "cell_type": "code",
   "execution_count": null,
   "metadata": {},
   "outputs": [],
   "source": []
  }
 ],
 "metadata": {
  "kernelspec": {
   "display_name": "Python 3",
   "language": "python",
   "name": "python3"
  },
  "language_info": {
   "codemirror_mode": {
    "name": "ipython",
    "version": 3
   },
   "file_extension": ".py",
   "mimetype": "text/x-python",
   "name": "python",
   "nbconvert_exporter": "python",
   "pygments_lexer": "ipython3",
   "version": "3.7.4"
  }
 },
 "nbformat": 4,
 "nbformat_minor": 4
}
