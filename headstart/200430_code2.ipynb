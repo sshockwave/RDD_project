{
 "cells": [
  {
   "cell_type": "code",
   "execution_count": 1,
   "metadata": {},
   "outputs": [],
   "source": [
    "import matplotlib.pyplot as plt\n",
    "import numpy as np\n",
    "from sklearn import datasets, linear_model\n",
    "from sklearn.metrics import mean_squared_error, r2_score\n",
    "import pandas as pd"
   ]
  },
  {
   "cell_type": "code",
   "execution_count": 17,
   "metadata": {},
   "outputs": [
    {
     "name": "stdout",
     "output_type": "stream",
     "text": [
      "Dropped 26 lines that contain NaN.\n"
     ]
    }
   ],
   "source": [
    "data=pd.read_csv('data/headstart.csv')\n",
    "len_before=len(data.index)\n",
    "data=data.dropna(how='any',subset=['povrate60','mort_age59_related_postHS','census1960_pop'])\n",
    "len_after=len(data.index)\n",
    "print('Dropped',len_before-len_after,'lines that contain NaN.')"
   ]
  },
  {
   "cell_type": "code",
   "execution_count": 136,
   "metadata": {},
   "outputs": [],
   "source": [
    "# t is the threshold, k is a kernel function [0,1]->R, and b is the bandwidth\n",
    "# Currently supports only 1D array\n",
    "# Regression from left of t\n",
    "def regr_sided(X,Y,t,k,b):\n",
    "    # Dispose points outside bandwidth\n",
    "    YL=Y[np.logical_and(t-b<X,X<t)]\n",
    "    XL=X[np.logical_and(t-b<X,X<t)]\n",
    "    \n",
    "    # Calculate weights\n",
    "    get_weight=np.vectorize(lambda x:k((np.abs((x-t)))/b))\n",
    "    WL=get_weight(XL)\n",
    "\n",
    "    # Reshape for lib use\n",
    "    # Every data has a single feature\n",
    "    XL=XL.values.reshape(-1,1)\n",
    "    YL=YL.values.reshape(-1,1)\n",
    "    \n",
    "    # Create linear regression object\n",
    "    regrL = linear_model.LinearRegression()\n",
    "    \n",
    "    # Train the model using the training sets\n",
    "    regrL.fit(XL, YL, sample_weight=WL)\n",
    "    \n",
    "    return regrL\n",
    "\n",
    "def regr_symmetric(X,Y,t,k,b):\n",
    "    # Dispose points outside bandwidth\n",
    "    XL=X[np.logical_and(t-b<X,X<t)]\n",
    "    YL=Y[np.logical_and(t-b<X,X<t)]\n",
    "    XR=X[np.logical_and(t<X,X<t+b)]\n",
    "    YR=Y[np.logical_and(t<X,X<t+b)]\n",
    "    \n",
    "    # Calculate weights    \n",
    "    get_weight=np.vectorize(lambda x:k(np.abs((x-threshold))/b))\n",
    "    \n",
    "    # Print weight\n",
    "    print('Weights:')\n",
    "    y=np.linspace(0,k(0),1000)\n",
    "    x=t+0*y\n",
    "    plt.plot(x,y,color='blue',linewidth=1)\n",
    "    plt.plot(XL, get_weight(XL), color='purple', linewidth=2)\n",
    "    plt.plot(XR, get_weight(XR), color='purple', linewidth=2)\n",
    "    plt.show()\n",
    "    \n",
    "    regrL=regr_sided(X,Y,t,k,b)\n",
    "    regrR=regr_sided(-X,Y,-t,k,b)\n",
    "    \n",
    "    # Make predictions using the testing set\n",
    "    XL=XL.values.reshape(-1,1)\n",
    "    XR=XR.values.reshape(-1,1)\n",
    "    YL_pred = regrL.predict(XL)\n",
    "    YR_pred = regrR.predict(np.negative(XR))\n",
    "    EY_L = regrL.predict([[t]])[0][0]\n",
    "    EY_R = regrR.predict(np.negative([[t]]))[0][0]\n",
    "    \n",
    "    # Output\n",
    "    plt.scatter(XL, YL, s=0.2, color='black')\n",
    "    plt.plot(XL, YL_pred, color='red', linewidth=2)\n",
    "    plt.scatter(XR, YR, s=0.2, color='black')\n",
    "    plt.plot(XR, YR_pred, color='red', linewidth=2)\n",
    "    # Plot separating line\n",
    "    y=np.linspace(0,max(EY_L,EY_R),1000)\n",
    "    x=t+0*y\n",
    "    plt.plot(x,y,color='blue',linewidth=1)\n",
    "    plt.show()\n",
    "    print('E[Y-]',EY_L)\n",
    "    print('E[Y+]',EY_R)\n",
    "    print('Estimated effect',EY_R-EY_L)\n",
    "    \n",
    "    return (regrL,regrR)"
   ]
  },
  {
   "cell_type": "code",
   "execution_count": 137,
   "metadata": {},
   "outputs": [
    {
     "name": "stdout",
     "output_type": "stream",
     "text": [
      "Weights:\n"
     ]
    },
    {
     "data": {
      "image/png": "[encoded data removed]",
      "text/plain": [
       "<Figure size 432x288 with 1 Axes>"
      ]
     },
     "metadata": {
      "needs_background": "light"
     },
     "output_type": "display_data"
    },
    {
     "data": {
      "image/png": "[encoded data removed]",
      "text/plain": [
       "<Figure size 432x288 with 1 Axes>"
      ]
     },
     "metadata": {
      "needs_background": "light"
     },
     "output_type": "display_data"
    },
    {
     "name": "stdout",
     "output_type": "stream",
     "text": [
      "E[Y-] 3.7359632960497446\n",
      "E[Y+] 0.49151239614237596\n",
      "Estimated effect -3.2444508999073687\n"
     ]
    },
    {
     "data": {
      "text/plain": [
       "(LinearRegression(copy_X=True, fit_intercept=True, n_jobs=None, normalize=False),\n",
       " LinearRegression(copy_X=True, fit_intercept=True, n_jobs=None, normalize=False))"
      ]
     },
     "execution_count": 137,
     "metadata": {},
     "output_type": "execute_result"
    }
   ],
   "source": [
    "threshold=59.1984\n",
    "def ker_tri(x):\n",
    "    return 1-x\n",
    "regr_symmetric(data['povrate60'],\n",
    "               data['mort_age59_related_postHS'],\n",
    "               threshold,\n",
    "               ker_tri,\n",
    "               3)"
   ]
  },
  {
   "cell_type": "code",
   "execution_count": 138,
   "metadata": {},
   "outputs": [
    {
     "name": "stdout",
     "output_type": "stream",
     "text": [
      "Weights:\n"
     ]
    },
    {
     "data": {
      "image/png": "[encoded data removed]",
      "text/plain": [
       "<Figure size 432x288 with 1 Axes>"
      ]
     },
     "metadata": {
      "needs_background": "light"
     },
     "output_type": "display_data"
    },
    {
     "data": {
      "image/png": "[encoded data removed]",
      "text/plain": [
       "<Figure size 432x288 with 1 Axes>"
      ]
     },
     "metadata": {
      "needs_background": "light"
     },
     "output_type": "display_data"
    },
    {
     "name": "stdout",
     "output_type": "stream",
     "text": [
      "E[Y-] 4.181247634982988\n",
      "E[Y+] 0.22113009048514698\n",
      "Estimated effect -3.960117544497841\n"
     ]
    },
    {
     "data": {
      "text/plain": [
       "(LinearRegression(copy_X=True, fit_intercept=True, n_jobs=None, normalize=False),\n",
       " LinearRegression(copy_X=True, fit_intercept=True, n_jobs=None, normalize=False))"
      ]
     },
     "execution_count": 138,
     "metadata": {},
     "output_type": "execute_result"
    }
   ],
   "source": [
    "threshold=59.1984\n",
    "def ker_rect(x):\n",
    "    return 1 # Note that the constant here will not affect the result\n",
    "regr_symmetric(data['povrate60'],\n",
    "               data['mort_age59_related_postHS'],\n",
    "               threshold,\n",
    "               ker_rect,\n",
    "               3)"
   ]
  },
  {
   "cell_type": "code",
   "execution_count": 146,
   "metadata": {},
   "outputs": [
    {
     "data": {
      "text/plain": [
       "8.803297155094635"
      ]
     },
     "execution_count": 146,
     "metadata": {},
     "output_type": "execute_result"
    }
   ],
   "source": [
    "def get_interval(X,Y,a,b):\n",
    "    X1=X[np.logical_and(a<X,X<b)]\n",
    "    Y1=Y[np.logical_and(a<X,X<b)]\n",
    "def validator3(X,Y,k,b):\n",
    "    n=30\n",
    "    err_sum=0\n",
    "    for test_case in range(n):\n",
    "        #todo:select from [l+b,r] rather than [l,r]\n",
    "        #select a random node\n",
    "        i=X.index[np.random.choice(len(X.index))]\n",
    "        x,y=X[i],Y[i]\n",
    "        regr_model=regr_sided(X,Y,x,k,b)\n",
    "        ey=regr_model.predict([[x]])[0][0]\n",
    "        err_sum+=(ey-y)*(ey-y)\n",
    "    return err_sum/n\n",
    "\n",
    "validator3(data['povrate60'],data['mort_age59_related_postHS'],ker_rect,3)"
   ]
  },
  {
   "cell_type": "code",
   "execution_count": null,
   "metadata": {},
   "outputs": [],
   "source": []
  }
 ],
 "metadata": {
  "kernelspec": {
   "display_name": "Python 3",
   "language": "python",
   "name": "python3"
  },
  "language_info": {
   "codemirror_mode": {
    "name": "ipython",
    "version": 3
   },
   "file_extension": ".py",
   "mimetype": "text/x-python",
   "name": "python",
   "nbconvert_exporter": "python",
   "pygments_lexer": "ipython3",
   "version": "3.7.4"
  }
 },
 "nbformat": 4,
 "nbformat_minor": 4
}
