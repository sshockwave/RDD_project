{
 "cells": [
  {
   "cell_type": "code",
   "execution_count": 4,
   "metadata": {},
   "outputs": [],
   "source": [
    "import matplotlib.pyplot as plt\n",
    "import numpy as np\n",
    "from sklearn import datasets, linear_model\n",
    "from sklearn.metrics import mean_squared_error, r2_score\n",
    "import pandas as pd"
   ]
  },
  {
   "cell_type": "code",
   "execution_count": 5,
   "metadata": {},
   "outputs": [
    {
     "name": "stdout",
     "output_type": "stream",
     "text": [
      "Dropped 26 lines that contain NaN.\n"
     ]
    }
   ],
   "source": [
    "data=pd.read_csv('data/headstart.csv')\n",
    "len_before=len(data.index)\n",
    "data=data.dropna(how='any',subset=['povrate60','mort_age59_related_postHS','census1960_pop'])\n",
    "len_after=len(data.index)\n",
    "print('Dropped',len_before-len_after,'lines that contain NaN.')\n",
    "threshold=59.1984"
   ]
  },
  {
   "cell_type": "code",
   "execution_count": 6,
   "metadata": {},
   "outputs": [],
   "source": [
    "def ker_tri(x):\n",
    "    return 2*(1-x)"
   ]
  },
  {
   "cell_type": "code",
   "execution_count": 7,
   "metadata": {},
   "outputs": [],
   "source": [
    "def ker_rect(x):\n",
    "    return 1 # Note that the constant here will not affect the result"
   ]
  },
  {
   "cell_type": "code",
   "execution_count": 12,
   "metadata": {},
   "outputs": [],
   "source": [
    "def get_interval(X,Y,a,b):\n",
    "    return X[np.logical_and(a<X,X<b)],Y[np.logical_and(a<X,X<b)]"
   ]
  },
  {
   "cell_type": "code",
   "execution_count": 91,
   "metadata": {},
   "outputs": [],
   "source": [
    "# Left regression only\n",
    "def bias2(X,Y,t,k,b):\n",
    "    X,Y=get_interval(X,Y,t-b,t)\n",
    "    get_weight=np.vectorize(lambda x:k((np.abs(x-t))/b))\n",
    "    WL=get_weight(X)\n",
    "    #averages\n",
    "    X1=X.values.reshape(-1,1)\n",
    "    X2=np.hstack([X1,X1**2])\n",
    "    regr1 = linear_model.LinearRegression()\n",
    "    regr2 = linear_model.LinearRegression()\n",
    "    regr2.fit(X2, Y, sample_weight=WL)\n",
    "    regr1.fit(X1,regr2.predict(X2),sample_weight=WL)\n",
    "    err=(regr1.predict([[t]])-regr2.predict([[t,t**2]]))[0]\n",
    "    return err**2"
   ]
  },
  {
   "cell_type": "code",
   "execution_count": 92,
   "metadata": {},
   "outputs": [
    {
     "data": {
      "image/png": "[encoded data removed]",
      "text/plain": [
       "<Figure size 432x288 with 1 Axes>"
      ]
     },
     "metadata": {
      "needs_background": "light"
     },
     "output_type": "display_data"
    }
   ],
   "source": [
    "X=data['povrate60']\n",
    "Y=data['mort_age59_related_postHS']\n",
    "restriction=Y<=40\n",
    "X=X[restriction]\n",
    "Y=Y[restriction]\n",
    "def test_bandwidth(X,Y,t,k,vald):\n",
    "    for i in np.exp(np.linspace(-1,1,100)):\n",
    "        err=(vald(X,Y,t,k,i)+vald(-X,Y,-t,k,i))/2\n",
    "        plt.scatter(i, err, s=0.2, color='blue')\n",
    "    plt.show()\n",
    "    \n",
    "test_bandwidth(X,Y,threshold,ker_tri,bias2)"
   ]
  },
  {
   "cell_type": "code",
   "execution_count": null,
   "metadata": {},
   "outputs": [],
   "source": []
  }
 ],
 "metadata": {
  "kernelspec": {
   "display_name": "Python 3",
   "language": "python",
   "name": "python3"
  },
  "language_info": {
   "codemirror_mode": {
    "name": "ipython",
    "version": 3
   },
   "file_extension": ".py",
   "mimetype": "text/x-python",
   "name": "python",
   "nbconvert_exporter": "python",
   "pygments_lexer": "ipython3",
   "version": "3.7.4"
  }
 },
 "nbformat": 4,
 "nbformat_minor": 4
}
